{
 "cells": [
  {
   "cell_type": "code",
   "execution_count": 1,
   "metadata": {},
   "outputs": [],
   "source": [
    "from indicator import stonk_df, log_returns, compute_window_landscapes\n",
    "from datetime import date\n",
    "import pandas as pd\n",
    "from TimingLogger import TimingLogger"
   ]
  },
  {
   "cell_type": "code",
   "execution_count": 30,
   "metadata": {},
   "outputs": [],
   "source": [
    "def make_training_data(start_dt, end_dt, ticker_symbol_list, window_sizes, maxdim=1, filename='training_df.zip', continue_from_earlier_calculation=False):\n",
    "    if continue_from_earlier_calculation:\n",
    "        df = pd.read_csv(filename, index_col='Date')\n",
    "    else:\n",
    "        df = stonk_df(\n",
    "            start_dt=start_dt,\n",
    "            end_dt=end_dt,\n",
    "            ticker_symbol_list=ticker_symbol_list\n",
    "        )\n",
    "        df = pd.DataFrame(index=df.index)\n",
    "    import progressbar\n",
    "    bar = progressbar.ProgressBar()\n",
    "    for window_size in bar(window_sizes):\n",
    "        with TimingLogger('training_df_log.log','window_size '+str(window_size)):\n",
    "            new_df = compute_window_landscapes(\n",
    "                start_dt=start_dt,\n",
    "                end_dt=end_dt,\n",
    "                ticker_symbol_list=ticker_symbol_list,\n",
    "                window_size=window_size,\n",
    "                maxdim=maxdim\n",
    "            )        \n",
    "            for ell in ['L'+str(n) for n in range(maxdim+1)]:\n",
    "                df[ell + '_' + str(window_size)] = new_df[ell]\n",
    "            df.to_csv(filename, index=True)\n",
    "    return df"
   ]
  },
  {
   "cell_type": "code",
   "execution_count": null,
   "metadata": {},
   "outputs": [
    {
     "name": "stderr",
     "output_type": "stream",
     "text": [
      " 65% |##############################################                          |\r"
     ]
    }
   ],
   "source": [
    "df = make_training_data(\n",
    "        start_dt='2000-01-01',\n",
    "        end_dt=str(date.today()),\n",
    "        ticker_symbol_list=[\"^GSPC\",\"^DJI\",\"^IXIC\",\"^RUT\"],\n",
    "        window_sizes=[7,14,21,30,35,40,50,60,70,80,90,100,120,140,160,180,200,225,250,275,300,330,365],\n",
    "        maxdim=2\n",
    "    )"
   ]
  },
  {
   "cell_type": "code",
   "execution_count": null,
   "metadata": {},
   "outputs": [
    {
     "name": "stderr",
     "output_type": "stream",
     "text": [
      "  0% |                                                                        |\r"
     ]
    }
   ],
   "source": [
    "df = make_training_data(\n",
    "        start_dt='2000-01-01',\n",
    "        end_dt=str(date.today()),\n",
    "        ticker_symbol_list=[\"^GSPC\",\"^DJI\",\"^IXIC\",\"^RUT\"],\n",
    "        window_sizes=[180,200,225,250,275,300,330,365],\n",
    "        maxdim=2,\n",
    "        continue_from_earlier_calculation=True\n",
    "    )"
   ]
  }
 ],
 "metadata": {
  "kernelspec": {
   "display_name": "Python 3",
   "language": "python",
   "name": "python3"
  },
  "language_info": {
   "codemirror_mode": {
    "name": "ipython",
    "version": 3
   },
   "file_extension": ".py",
   "mimetype": "text/x-python",
   "name": "python",
   "nbconvert_exporter": "python",
   "pygments_lexer": "ipython3",
   "version": "3.7.4"
  }
 },
 "nbformat": 4,
 "nbformat_minor": 2
}
