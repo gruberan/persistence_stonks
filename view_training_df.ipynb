{
 "cells": [
  {
   "cell_type": "code",
   "execution_count": 1,
   "metadata": {},
   "outputs": [],
   "source": [
    "import pandas as pd\n",
    "from pandas.plotting import register_matplotlib_converters\n",
    "register_matplotlib_converters()\n",
    "from indicator import plot_window_landscapes\n",
    "from datetime import date"
   ]
  },
  {
   "cell_type": "code",
   "execution_count": 19,
   "metadata": {},
   "outputs": [],
   "source": [
    "df = pd.read_csv('training_df.zip', index_col='Date')"
   ]
  },
  {
   "cell_type": "markdown",
   "metadata": {},
   "source": [
    "# L1"
   ]
  },
  {
   "cell_type": "code",
   "execution_count": null,
   "metadata": {},
   "outputs": [],
   "source": [
    "## 2000 - today\n",
    "plot_window_landscapes(\n",
    "        start_dt=\"2000-01-01\",\n",
    "        end_dt=str(date.today()),\n",
    "        row_syms=[\"^GSPC\"]+[col for col in df.columns if col[0:2] == 'L1'],\n",
    "        use_precomputed_df=True,\n",
    "        precomputed_df=df,\n",
    "        figscale=(2,1)\n",
    "    )"
   ]
  },
  {
   "cell_type": "code",
   "execution_count": null,
   "metadata": {},
   "outputs": [],
   "source": [
    "## 2008 - 2010\n",
    "plot_window_landscapes(\n",
    "        start_dt=\"2008-01-01\",\n",
    "        end_dt=\"2010-01-01\",\n",
    "        row_syms=[\"^GSPC\"]+[col for col in df.columns if col[0:2] == 'L1'],\n",
    "        use_precomputed_df=True,\n",
    "        precomputed_df=df,\n",
    "        figscale=(2,1)\n",
    "    )"
   ]
  },
  {
   "cell_type": "code",
   "execution_count": null,
   "metadata": {},
   "outputs": [],
   "source": [
    "plot_window_landscapes(\n",
    "        start_dt=\"2019-01-01\",\n",
    "        end_dt=str(date.today()),\n",
    "        row_syms=[\"^GSPC\"]+[col for col in df.columns if col[0:2] == 'L1'],\n",
    "        use_precomputed_df=True,\n",
    "        precomputed_df=df,\n",
    "        figscale=(2,1)\n",
    "    )"
   ]
  },
  {
   "cell_type": "markdown",
   "metadata": {},
   "source": [
    "# L2"
   ]
  },
  {
   "cell_type": "code",
   "execution_count": null,
   "metadata": {},
   "outputs": [],
   "source": [
    "## 2000 - today\n",
    "plot_window_landscapes(\n",
    "        start_dt=\"2000-01-01\",\n",
    "        end_dt=str(date.today()),\n",
    "        row_syms=[\"^GSPC\"]+[col for col in df.columns if col[0:2] == 'L2'],\n",
    "        use_precomputed_df=True,\n",
    "        precomputed_df=df,\n",
    "        figscale=(2,1)\n",
    "    )"
   ]
  },
  {
   "cell_type": "code",
   "execution_count": null,
   "metadata": {},
   "outputs": [],
   "source": [
    "## 2008 - 2010\n",
    "plot_window_landscapes(\n",
    "        start_dt=\"2008-01-01\",\n",
    "        end_dt=\"2010-01-01\",\n",
    "        row_syms=[\"^GSPC\"]+[col for col in df.columns if col[0:2] == 'L2'],\n",
    "        use_precomputed_df=True,\n",
    "        precomputed_df=df,\n",
    "        figscale=(2,1)\n",
    "    )"
   ]
  },
  {
   "cell_type": "code",
   "execution_count": null,
   "metadata": {},
   "outputs": [],
   "source": [
    "## 2010 - today\n",
    "plot_window_landscapes(\n",
    "        start_dt=\"2010-01-01\",\n",
    "        end_dt=str(date.today()),\n",
    "        row_syms=[\"^GSPC\"]+[col for col in df.columns if col[0:2] == 'L2'],\n",
    "        use_precomputed_df=True,\n",
    "        precomputed_df=df,\n",
    "        figscale=(2,1)\n",
    "    )"
   ]
  },
  {
   "cell_type": "code",
   "execution_count": null,
   "metadata": {},
   "outputs": [],
   "source": [
    "## 2019 - today\n",
    "plot_window_landscapes(\n",
    "        start_dt=\"2019-01-01\",\n",
    "        end_dt=str(date.today()),\n",
    "        row_syms=[\"^GSPC\"]+[col for col in df.columns if col[0:2] == 'L2'],\n",
    "        use_precomputed_df=True,\n",
    "        precomputed_df=df,\n",
    "        figscale=(2,1)\n",
    "    )"
   ]
  }
 ],
 "metadata": {
  "kernelspec": {
   "display_name": "Python 3",
   "language": "python",
   "name": "python3"
  },
  "language_info": {
   "codemirror_mode": {
    "name": "ipython",
    "version": 3
   },
   "file_extension": ".py",
   "mimetype": "text/x-python",
   "name": "python",
   "nbconvert_exporter": "python",
   "pygments_lexer": "ipython3",
   "version": "3.7.4"
  }
 },
 "nbformat": 4,
 "nbformat_minor": 2
}
